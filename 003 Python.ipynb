{
 "cells": [
  {
   "cell_type": "markdown",
   "metadata": {},
   "source": [
    "## Numpy의 이해"
   ]
  },
  {
   "cell_type": "code",
   "execution_count": 47,
   "metadata": {},
   "outputs": [
    {
     "name": "stdout",
     "output_type": "stream",
     "text": [
      "1.4142135623730951\n",
      "3.141592653589793\n",
      "0.0\n",
      "-1.0\n",
      "0.5095320179095268\n"
     ]
    }
   ],
   "source": [
    "import numpy as np #요약어로 사용. 별명을 사용한다.\n",
    "print(np.sqrt(2)) #루트함수\n",
    "print(np.pi) \n",
    "print(np.sin(0)) #싸인 코사인\n",
    "print(np.cos(np.pi))\n",
    "print(np.random.random()) #램덤수를 생성"
   ]
  },
  {
   "cell_type": "code",
   "execution_count": 41,
   "metadata": {},
   "outputs": [
    {
     "name": "stdout",
     "output_type": "stream",
     "text": [
      "[0.23819485 0.01035533 0.72329795 0.17704799 0.30779233]\n",
      "<class 'numpy.ndarray'>\n",
      "\n",
      "\n",
      "0.8284158648336012\n",
      "95\n",
      "[4, 5, 1, 7, 6, 3, 2]\n",
      "3\n",
      "\n",
      "\n",
      "[2 3 5 1 3 3 5 4 3 0]\n",
      "[2 7 4 5 1 0]\n",
      "[2 3 3 3 2 4 2 4 1 3]\n"
     ]
    }
   ],
   "source": [
    "import numpy as np\n",
    "#랜덤클래스\n",
    "a = np.random.rand(5) #0~1사이의 n개의 실수 생성\n",
    "print(a)\n",
    "print(type(a)) #타입확인\n",
    "print(\"\\n\")\n",
    "\n",
    "print(np.random.random())#실수 난수 생성\n",
    "print(np.random.randint(1,100))#정수 난수 생성★\n",
    "#print(np.random.choice('abcde')) #하나의 램던 항목 선택★\n",
    "items =[1,2,3,4,5,6,7]\n",
    "np.random.shuffle(items)#섞음★\n",
    "print(items) \n",
    "print(np.random.choice(items))\n",
    "print(\"\\n\")\n",
    "\n",
    "print(np.random.choice(6,10)) # 0~(6-1)사이의 숫자를 10번 선택★★\n",
    "print(np.random.choice(10,6, replace = False)) #중복★\n",
    "print(np.random.choice(6,10, p=[0.1, 0.2, 0.3, 0.2, 0.1, 0.1])) #확률설정★"
   ]
  },
  {
   "cell_type": "code",
   "execution_count": 51,
   "metadata": {},
   "outputs": [
    {
     "name": "stdout",
     "output_type": "stream",
     "text": [
      "[[ 0.    -1.875]]\n",
      "[ True  True]\n",
      "1\n",
      "\n",
      "\n",
      "2 4\n",
      "[2 3 4]\n",
      "['1' '2' '3' '4']\n"
     ]
    }
   ],
   "source": [
    "import numpy as np\n",
    "#Ndarray=N dimensonal array 다차원 행렬을 담는 ndarray클래스.\n",
    "#차원은 요소element, 벡터vector, 매트릭스/행렬matrix, 행렬multidimensional matrix\n",
    "a = np.empty(shape=[1,2], dtype= np.float32) #비어있는 1차원 요소 2개를 float32형으로 Ndarray를 생성.\n",
    "print(a) \n",
    "\n",
    "f= np.array([1,2], dtype = np.bool)\n",
    "print(f)\n",
    "print(f.itemsize) #byte단위를 출력\n",
    "print(\"\\n\")\n",
    "\n",
    "#list와 ndarray의 \n",
    "#공통점: []를 사용한다. 인덱싱과 슬라이싱이 가능\n",
    "#차이점: ndarry는 ,가 없고 한가지 타입의 데이터만 저장가능. 숫자 문자가 함께 저장될시 문자로 저장된다.\n",
    "a=np.array([1,2,3,4]) #list데이터\n",
    "print(a[1], a[-1])\n",
    "print(a[1:]) #list데이터를 ndarray타입의 배열로 변환\n",
    "\n",
    "a=np.array([1,2,'3',4]) #모두 문자로 변환된다.\n",
    "print(a)"
   ]
  },
  {
   "cell_type": "code",
   "execution_count": 68,
   "metadata": {},
   "outputs": [
    {
     "name": "stdout",
     "output_type": "stream",
     "text": [
      "[0. 0. 0. 0. 0. 0. 0. 0. 0. 0.]\n",
      "[[0 0]]\n",
      "[[0 0]\n",
      " [0 0]]\n",
      "\n",
      "\n",
      "[1. 1. 1. 1. 1. 1. 1. 1. 1. 1.]\n",
      "[[1. 1.]]\n",
      "[[1. 1.]\n",
      " [1. 1.]]\n",
      "\n",
      "\n",
      "[[1. 0. 0.]\n",
      " [0. 1. 0.]\n",
      " [0. 0. 1.]]\n",
      "\n",
      "\n",
      "[3. 3. 3. 3. 3. 3. 3. 3. 3. 3.]\n",
      "[1.73205081 1.73205081 1.73205081 1.73205081 1.73205081 1.73205081\n",
      " 1.73205081 1.73205081 1.73205081 1.73205081]\n"
     ]
    }
   ],
   "source": [
    "import numpy as np\n",
    "#zero() ones() eye()함수\n",
    "a = np.zeros(10) #0으로 초기화. ndarray 벡터\n",
    "print(a)\n",
    "b=np.zeros(shape =[1,2], dtype=np.int32) #정수로 초기화. ndarray 벡터\n",
    "print(b)\n",
    "b1=np.zeros(shape=[2,2], dtype=np.int32) #ndarray행렬\n",
    "print(b1)\n",
    "print(\"\\n\")\n",
    "\n",
    "c=np.ones(10)\n",
    "print(c)\n",
    "d=np.ones(shape=[1,2], dtype=np.float64)\n",
    "print(d)\n",
    "e=np.ones(shape=[2,2], dtype=np.float64)\n",
    "print(e)\n",
    "print(\"\\n\")\n",
    "\n",
    "f=np.eye(3) #3*3의 매트릭스(행렬)를 만듬. 대각선이 1로 이루어진다.\n",
    "print(f)\n",
    "print(\"\\n\")\n",
    "\n",
    "#초기값이 3인 배열을 10개 만들기.\n",
    "#배열에 연산/함수를 적용하면 모든 값에 한꺼번에 적용된다. (for문 사용X)\n",
    "g=np.zeros(10)+3\n",
    "print(g)\n",
    "h=np.linspace(1,2,11)#1~2사이를 11구간으로 나눔\n",
    "print(np.sqrt(g)) #루트를 씌움"
   ]
  },
  {
   "cell_type": "code",
   "execution_count": 60,
   "metadata": {},
   "outputs": [
    {
     "name": "stdout",
     "output_type": "stream",
     "text": [
      "[0.  0.1 0.2 0.3 0.4 0.5 0.6 0.7 0.8 0.9]\n",
      "[0 1]\n",
      "[3 4 5 6]\n",
      "[3 5]\n"
     ]
    }
   ],
   "source": [
    "#arange()함수. 0과 1을 제외한 연속된 데이터를 생성. \n",
    "#np.arange([start], stop, [step], [dtype=None])\n",
    "#start는 시작값, stop는 끝값, step은 증가값. 증가값은 안 쓸경우 1로 적용된다. []는 생략가능.\n",
    "g= np.arange(0,1,0.1)\n",
    "print(g)\n",
    "\n",
    "print(np.arange(2)) #stop =3\n",
    "print(np.arange(3,7)) #start=3 sopt=7★\n",
    "print(np.arange(3,7,2)) #start =3, stop=7, step=2"
   ]
  },
  {
   "cell_type": "code",
   "execution_count": 65,
   "metadata": {},
   "outputs": [
    {
     "name": "stdout",
     "output_type": "stream",
     "text": [
      "[0.  0.2 0.4 0.6 0.8 1. ]\n",
      "[-3.14159265 -2.82743339 -2.51327412 -2.19911486 -1.88495559 -1.57079633\n",
      " -1.25663706 -0.9424778  -0.62831853 -0.31415927  0.          0.31415927\n",
      "  0.62831853  0.9424778   1.25663706  1.57079633  1.88495559  2.19911486\n",
      "  2.51327412  2.82743339]\n",
      "[-3.14159265 -2.81089869 -2.48020473 -2.14951076 -1.8188168  -1.48812284\n",
      " -1.15742887 -0.82673491 -0.49604095 -0.16534698  0.16534698  0.49604095\n",
      "  0.82673491  1.15742887  1.48812284  1.8188168   2.14951076  2.48020473\n",
      "  2.81089869  3.14159265]\n"
     ]
    }
   ],
   "source": [
    "#linspace()함수. 특정구간을 쪼개어 값을 생성.\n",
    "h=np.linspace(0,1,6)#start, stop, 구간의 수. 6개의 구간으로 나눈다.\n",
    "print(h)\n",
    "i=np.arange(-np.pi, np.pi, np.pi/10) \n",
    "j=np.linspace(-np.pi, np.pi, 20)\n",
    "print(i)#-3.14~3.14 사이의 0,1제외의 10개의 데이터를 생성\n",
    "print(j)#-3.14~3.14를 20개 구간으로 나눔."
   ]
  },
  {
   "cell_type": "code",
   "execution_count": 79,
   "metadata": {},
   "outputs": [
    {
     "data": {
      "image/png": "[encoded data removed]",
      "text/plain": [
       "<Figure size 432x288 with 1 Axes>"
      ]
     },
     "metadata": {
      "needs_background": "light"
     },
     "output_type": "display_data"
    },
    {
     "data": {
      "image/png": "[encoded data removed]",
      "text/plain": [
       "<Figure size 432x288 with 1 Axes>"
      ]
     },
     "metadata": {
      "needs_background": "light"
     },
     "output_type": "display_data"
    }
   ],
   "source": [
    "import numpy as np\n",
    "import matplotlib.pyplot as plt\n",
    "#ndarray로 그래프그리기.\n",
    "a=np.arange(-np.pi, np.pi, np.pi/100)\n",
    "plt.plot(a, np.sin(a))\n",
    "plt.show()\n",
    "b=np.arange(-np.pi, np.pi, np.pi/100)\n",
    "plt.plot(b,np.sin(b))\n",
    "plt.plot(b,np.cos(b))\n",
    "plt.plot(b+np.pi/2, np.sin(b)) #오른쪽으로 수평이동\n",
    "plt.show()"
   ]
  },
  {
   "cell_type": "code",
   "execution_count": 84,
   "metadata": {},
   "outputs": [
    {
     "name": "stdout",
     "output_type": "stream",
     "text": [
      "[-5 -4 -3 -2 -1  0  1  2  3  4]\n",
      "[ True  True  True  True  True False False False False False]\n",
      "[-5 -4 -3 -2 -1]\n",
      "[-5 -4  4]\n",
      "\n",
      "\n",
      "[-5 -4 -2  0  2  4]\n",
      "[-4  4]\n"
     ]
    }
   ],
   "source": [
    "#mask 기능. 어떤조건에 부합하는 데이터만 저장. 복수의 마스크를 연결하여 사용 가능.\n",
    "import numpy as np\n",
    "a=np.arange(-5, 5) #ndarray 벡터\n",
    "print(a)\n",
    "print(a<0) #t/f값의 마스크 생성\n",
    "print(a[a<0])#마스크를 벡터에 적용\n",
    "mask1 = abs(a)>3 #마스크를 변수에 저장한다.\n",
    "print(a[mask1])\n",
    "print(\"\\n\")\n",
    "\n",
    "mask2=abs(a)%2 ==0 #짝수의 절대값\n",
    "print(a[mask1+mask2]) # OR 둘중 하나라도 참일경우\n",
    "print(a[mask1*mask2]) #AND 둘달 참일경우."
   ]
  }
 ],
 "metadata": {
  "kernelspec": {
   "display_name": "Python 3",
   "language": "python",
   "name": "python3"
  },
  "language_info": {
   "codemirror_mode": {
    "name": "ipython",
    "version": 3
   },
   "file_extension": ".py",
   "mimetype": "text/x-python",
   "name": "python",
   "nbconvert_exporter": "python",
   "pygments_lexer": "ipython3",
   "version": "3.8.3"
  }
 },
 "nbformat": 4,
 "nbformat_minor": 4
}
